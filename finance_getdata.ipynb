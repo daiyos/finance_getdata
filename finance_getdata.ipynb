{
  "nbformat": 4,
  "nbformat_minor": 0,
  "metadata": {
    "colab": {
      "provenance": [],
      "authorship_tag": "ABX9TyM8gwjOhFo4b/1Qlk0etn3s",
      "include_colab_link": true
    },
    "kernelspec": {
      "name": "python3",
      "display_name": "Python 3"
    },
    "language_info": {
      "name": "python"
    }
  },
  "cells": [
    {
      "cell_type": "markdown",
      "metadata": {
        "id": "view-in-github",
        "colab_type": "text"
      },
      "source": [
        "<a href=\"https://colab.research.google.com/github/daiyos/finance_getdata/blob/main/finance_getdata.ipynb\" target=\"_parent\"><img src=\"https://colab.research.google.com/assets/colab-badge.svg\" alt=\"Open In Colab\"/></a>"
      ]
    },
    {
      "cell_type": "code",
      "source": [
        "pip install yahoo_finance_api2"
      ],
      "metadata": {
        "colab": {
          "base_uri": "https://localhost:8080/"
        },
        "id": "2vjzSPF6C3bw",
        "outputId": "6345c47f-a954-4c54-86ee-22efbd92b4a2"
      },
      "execution_count": 2,
      "outputs": [
        {
          "output_type": "stream",
          "name": "stdout",
          "text": [
            "Looking in indexes: https://pypi.org/simple, https://us-python.pkg.dev/colab-wheels/public/simple/\n",
            "Collecting yahoo_finance_api2\n",
            "  Downloading yahoo_finance_api2-0.0.12.tar.gz (3.2 kB)\n",
            "Requirement already satisfied: pyyaml in /usr/local/lib/python3.7/dist-packages (from yahoo_finance_api2) (6.0)\n",
            "Requirement already satisfied: requests in /usr/local/lib/python3.7/dist-packages (from yahoo_finance_api2) (2.23.0)\n",
            "Requirement already satisfied: idna<3,>=2.5 in /usr/local/lib/python3.7/dist-packages (from requests->yahoo_finance_api2) (2.10)\n",
            "Requirement already satisfied: certifi>=2017.4.17 in /usr/local/lib/python3.7/dist-packages (from requests->yahoo_finance_api2) (2022.6.15)\n",
            "Requirement already satisfied: chardet<4,>=3.0.2 in /usr/local/lib/python3.7/dist-packages (from requests->yahoo_finance_api2) (3.0.4)\n",
            "Requirement already satisfied: urllib3!=1.25.0,!=1.25.1,<1.26,>=1.21.1 in /usr/local/lib/python3.7/dist-packages (from requests->yahoo_finance_api2) (1.24.3)\n",
            "Building wheels for collected packages: yahoo-finance-api2\n",
            "  Building wheel for yahoo-finance-api2 (setup.py) ... \u001b[?25l\u001b[?25hdone\n",
            "  Created wheel for yahoo-finance-api2: filename=yahoo_finance_api2-0.0.12-py3-none-any.whl size=3731 sha256=4c6a171a3460aa256994bc2b7f8d09f0cab39b3d2fa13030c0a72880abd9e466\n",
            "  Stored in directory: /root/.cache/pip/wheels/df/83/e1/df62dc96545acda58900be732f6eca5f34c84f28c9bd882f75\n",
            "Successfully built yahoo-finance-api2\n",
            "Installing collected packages: yahoo-finance-api2\n",
            "Successfully installed yahoo-finance-api2-0.0.12\n"
          ]
        }
      ]
    },
    {
      "cell_type": "code",
      "execution_count": 3,
      "metadata": {
        "colab": {
          "base_uri": "https://localhost:8080/"
        },
        "id": "8ImF6fIXBfyW",
        "outputId": "7362ac2a-0025-4e6b-8605-960bf11ebfac"
      },
      "outputs": [
        {
          "output_type": "stream",
          "name": "stdout",
          "text": [
            "AAPL\n",
            "AMZN\n",
            ">>> [FB] : Not Found: No data found, symbol may be delisted\n",
            ">>> [FB] : NoData : SKIP\n",
            "MSFT\n",
            ">>> [sdasd] : Not Found: No data found, symbol may be delisted\n",
            ">>> [sdasd] : NoData : SKIP\n",
            "GOOGL\n",
            "4661.T\n",
            "{'AAPL_20220901': 157.9600067138672, 'AAPL_20220902': 155.80999755859375, 'AAPL_20220906': 154.52999877929688, 'AAPL_20220907': 155.9600067138672, 'AAPL_20220908': 154.4600067138672, 'AAPL_20220909': 157.3699951171875, 'AMZN_20220901': 127.81999969482422, 'AMZN_20220902': 127.51000213623047, 'AMZN_20220906': 126.11000061035156, 'AMZN_20220907': 129.47999572753906, 'AMZN_20220908': 129.82000732421875, 'AMZN_20220909': 133.27000427246094, 'MSFT_20220901': 260.3999938964844, 'MSFT_20220902': 256.05999755859375, 'MSFT_20220906': 253.25, 'MSFT_20220907': 258.0899963378906, 'MSFT_20220908': 258.5199890136719, 'MSFT_20220909': 264.4599914550781, 'GOOGL_20220901': 109.73999786376953, 'GOOGL_20220902': 107.8499984741211, 'GOOGL_20220906': 106.80999755859375, 'GOOGL_20220907': 109.44999694824219, 'GOOGL_20220908': 108.37999725341797, 'GOOGL_20220909': 110.6500015258789, '4661.T_20220901': 20435.0, '4661.T_20220902': 20460.0, '4661.T_20220905': 20200.0, '4661.T_20220906': 18925.0, '4661.T_20220907': 18940.0, '4661.T_20220908': 19615.0, '4661.T_20220909': 19810.0}\n"
          ]
        }
      ],
      "source": [
        "from yahoo_finance_api2 import share\n",
        "from yahoo_finance_api2.exceptions import YahooFinanceError\n",
        "import datetime as datetime\n",
        "import pandas as pd\n",
        "\n",
        "def get_data(code):\n",
        "\n",
        "  stock = share.Share(code)\n",
        "  symbol_data = None\n",
        "\n",
        "  try:\n",
        "      # get_historical(period_type, period, frequency_type, frequency)\n",
        "      symbol_data = stock.get_historical(share.PERIOD_TYPE_DAY, 10, share.FREQUENCY_TYPE_DAY, 1)\n",
        "  except YahooFinanceError as e:\n",
        "      print(f\">>> [{code}] : {e.message}\")\n",
        "      return None\n",
        "\n",
        "  # 日付処理のためにDataframeに変換\n",
        "  df_symbol_data = pd.DataFrame(symbol_data)\n",
        "  # タイムスタンプを変換\n",
        "  df_symbol_data[\"datetime\"] = pd.to_datetime(df_symbol_data.timestamp, unit=\"ms\")\n",
        "  # 日本時間へ変換\n",
        "  df_symbol_data[\"datetime_jst\"] = df_symbol_data[\"datetime\"] + datetime.timedelta(hours=9)\n",
        "  # 後でキーに使いやすいように日本時間を文字列に変換\n",
        "  df_symbol_data[\"datetime_jst_str\"] = df_symbol_data[\"datetime_jst\"].apply(lambda x: x.strftime('%Y%m%d'))\n",
        "\n",
        "  return df_symbol_data\n",
        "\n",
        "# 日本株については.Tをつける：code + \".T\"\n",
        "stockList = [\"AAPL\",\"AMZN\",\"FB\",\"MSFT\",\"sdasd\",\"GOOGL\",\"4661.T\"]\n",
        "\n",
        "# とりあえずの格納先：'code_日付'をキーとし、終値を格納する\n",
        "# 取得できなかった場合はSKIPする\n",
        "dic_stock = {}\n",
        "for code in stockList:\n",
        "  res = get_data(code)\n",
        "  if(res is None):\n",
        "    print(f\">>> [{code}] : NoData : SKIP\")\n",
        "    continue\n",
        "\n",
        "  print(code)\n",
        "  # 終値\n",
        "  num = len(res)\n",
        "  for index in range(len(res)):\n",
        "    dic_target = res[index:index+1].to_dict()\n",
        "    dic_stock[code + \"_\" + dic_target[\"datetime_jst_str\"][index]] = dic_target[\"close\"][index]\n",
        "\n",
        "print(dic_stock)\n"
      ]
    }
  ]
}